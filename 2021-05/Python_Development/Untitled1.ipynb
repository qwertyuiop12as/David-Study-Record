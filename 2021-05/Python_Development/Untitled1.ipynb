{
 "cells": [
  {
   "cell_type": "code",
   "execution_count": 4,
   "metadata": {},
   "outputs": [],
   "source": [
    "def mymap(testlist, callback) :\n",
    "    resultList = []\n",
    "    \n",
    "    for i in range(0, len(testlist)) :\n",
    "        resultList.append(callback(testlist[i]))\n",
    "        \n",
    "    return resultList"
   ]
  },
  {
   "cell_type": "code",
   "execution_count": 5,
   "metadata": {},
   "outputs": [
    {
     "data": {
      "text/plain": [
       "[2, 4, 6, 8, 10]"
      ]
     },
     "execution_count": 5,
     "metadata": {},
     "output_type": "execute_result"
    }
   ],
   "source": [
    "a = [1, 2, 3, 4, 5]\n",
    "mymap(a, lambda x: x * 2)"
   ]
  },
  {
   "cell_type": "code",
   "execution_count": 6,
   "metadata": {},
   "outputs": [],
   "source": [
    "def myfilter(callback, testlist) :\n",
    "    resultList = []\n",
    "    \n",
    "    for i in range(0, len(testlist)) :\n",
    "        if callback(i) == True :\n",
    "            resultList.append(testlist[i])\n",
    "            \n",
    "    return resultList"
   ]
  },
  {
   "cell_type": "code",
   "execution_count": 7,
   "metadata": {},
   "outputs": [
    {
     "data": {
      "text/plain": [
       "[0, 2, 4, 6, 8]"
      ]
     },
     "execution_count": 7,
     "metadata": {},
     "output_type": "execute_result"
    }
   ],
   "source": [
    "a = range(0, 10)\n",
    "myfilter(lambda n: n % 2 == 0, a)"
   ]
  },
  {
   "cell_type": "code",
   "execution_count": 8,
   "metadata": {},
   "outputs": [
    {
     "data": {
      "text/plain": [
       "'내 보물은 아무도 안알려줄거야 lenova'"
      ]
     },
     "execution_count": 8,
     "metadata": {},
     "output_type": "execute_result"
    }
   ],
   "source": [
    "def 상호집() :\n",
    "    computer = \"공용\"\n",
    "    \n",
    "    def 상호방():\n",
    "        treasure = \"컴퓨터\"\n",
    "        computer_model = \"lenova\"\n",
    "        return (f\"내 보물은 아무도 안알려줄거야 {computer_model}\")\n",
    "    \n",
    "    return 상호방\n",
    "\n",
    "test = 상호집()\n",
    "test()"
   ]
  },
  {
   "cell_type": "code",
   "execution_count": 10,
   "metadata": {},
   "outputs": [
    {
     "name": "stdout",
     "output_type": "stream",
     "text": [
      "global x 1400534976\n",
      "y is  50\n",
      "y 1400534976\n",
      "x 1400534208\n",
      "Changed Local x to 2\n",
      "Global x 50\n"
     ]
    }
   ],
   "source": [
    "x = 50\n",
    "print('global x', id(x))\n",
    "\n",
    "def func(y) :\n",
    "    print('y is ', y)\n",
    "    print('y', id(y))\n",
    "    x = 2\n",
    "    print('x', id(x))\n",
    "    print(\"Changed Local x to\", x)\n",
    "    \n",
    "func(x)\n",
    "print(\"Global x\", x)"
   ]
  },
  {
   "cell_type": "code",
   "execution_count": 13,
   "metadata": {},
   "outputs": [
    {
     "name": "stdout",
     "output_type": "stream",
     "text": [
      "Before calling func x is  50\n",
      "This function is using the global x 50\n",
      "Because of global x is  50\n",
      "Ran func(), changed global x is to  2\n",
      "After calling func x is  2\n"
     ]
    }
   ],
   "source": [
    "x = 50\n",
    "\n",
    "def func():\n",
    "    global x\n",
    "    print(\"This function is using the global x\", x)\n",
    "    print(\"Because of global x is \", x)\n",
    "    x = 2\n",
    "    print(\"Ran func(), changed global x is to \", x)\n",
    "    \n",
    "print(\"Before calling func x is \", x)\n",
    "func()\n",
    "print(\"After calling func x is \", x)"
   ]
  },
  {
   "cell_type": "code",
   "execution_count": null,
   "metadata": {},
   "outputs": [],
   "source": []
  }
 ],
 "metadata": {
  "kernelspec": {
   "display_name": "Python 3",
   "language": "python",
   "name": "python3"
  },
  "language_info": {
   "codemirror_mode": {
    "name": "ipython",
    "version": 3
   },
   "file_extension": ".py",
   "mimetype": "text/x-python",
   "name": "python",
   "nbconvert_exporter": "python",
   "pygments_lexer": "ipython3",
   "version": "3.8.5"
  }
 },
 "nbformat": 4,
 "nbformat_minor": 4
}
